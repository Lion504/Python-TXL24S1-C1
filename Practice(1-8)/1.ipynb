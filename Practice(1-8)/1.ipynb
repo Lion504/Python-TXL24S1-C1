{
 "cells": [
  {
   "cell_type": "code",
   "id": "initial_id",
   "metadata": {
    "collapsed": true,
    "ExecuteTime": {
     "end_time": "2024-09-28T12:06:09.712942Z",
     "start_time": "2024-09-28T12:06:09.704067Z"
    }
   },
   "source": [
    "def find_max_in_list(lst):\n",
    "    max_num = lst[0]\n",
    "    for num in lst:\n",
    "        if num > max_num:\n",
    "            max_num = num\n",
    "    return max_num\n",
    "simple_lst= [5,7,8,1]\n",
    "result = find_max_in_list(simple_lst)\n",
    "print(result)"
   ],
   "outputs": [
    {
     "name": "stdout",
     "output_type": "stream",
     "text": [
      "8\n"
     ]
    }
   ],
   "execution_count": 1
  },
  {
   "metadata": {
    "ExecuteTime": {
     "end_time": "2024-09-28T14:03:46.790783Z",
     "start_time": "2024-09-28T14:03:46.786267Z"
    }
   },
   "cell_type": "code",
   "source": [
    "def student_grade(grades_dict):\n",
    "    max_grade = max(grades_dict.values())\n",
    "    for student , grade in grades_dict.items():\n",
    "        if grade == max_grade:\n",
    "            return student\n",
    "grades = {\n",
    "    \"a\": 3,\n",
    "    \"b\": 2,\n",
    "    \"c\": 5,\n",
    "}\n",
    "\n",
    "high_grade = student_grade(grades)\n",
    "print(grades.get(high_grade))"
   ],
   "id": "4f060f4a7cd28cbc",
   "outputs": [
    {
     "name": "stdout",
     "output_type": "stream",
     "text": [
      "5\n"
     ]
    }
   ],
   "execution_count": 54
  },
  {
   "metadata": {
    "ExecuteTime": {
     "end_time": "2024-09-28T13:05:11.903975Z",
     "start_time": "2024-09-28T13:05:11.900698Z"
    }
   },
   "cell_type": "code",
   "source": [
    "def calcu (a,b):\n",
    "    i = a * b\n",
    "    return i\n",
    "x = (5, 10, 15)\n",
    "(c,*d)=x\n",
    "result =  calcu(*d)\n",
    "print(result)"
   ],
   "id": "64ab20bab66c4740",
   "outputs": [
    {
     "name": "stdout",
     "output_type": "stream",
     "text": [
      "150\n"
     ]
    }
   ],
   "execution_count": 32
  },
  {
   "metadata": {
    "ExecuteTime": {
     "end_time": "2024-09-28T14:26:27.515684Z",
     "start_time": "2024-09-28T14:26:27.512774Z"
    }
   },
   "cell_type": "code",
   "source": [
    "simple_lst = [5, 7, 8, 1, 1]\n",
    "simple_lst.insert(1,6)\n",
    "i = simple_lst.pop(2)\n",
    "print(simple_lst)"
   ],
   "id": "dd245ccaaf6fc27f",
   "outputs": [
    {
     "name": "stdout",
     "output_type": "stream",
     "text": [
      "[5, 6, 8, 1, 1]\n"
     ]
    }
   ],
   "execution_count": 68
  },
  {
   "metadata": {
    "ExecuteTime": {
     "end_time": "2024-09-28T13:58:44.019726Z",
     "start_time": "2024-09-28T13:58:44.016228Z"
    }
   },
   "cell_type": "code",
   "source": [
    "def reverse_list (i):\n",
    "    max_num = i[0]\n",
    "    for n in i:\n",
    "        if n > max_num:\n",
    "            max_num = n\n",
    "    return max_num\n",
    "\n",
    "simple_lst = [5, 7, 8, 1]\n",
    "result = reverse_list(simple_lst)\n",
    "print (result)"
   ],
   "id": "70d59116e5031df3",
   "outputs": [
    {
     "name": "stdout",
     "output_type": "stream",
     "text": [
      "8\n"
     ]
    }
   ],
   "execution_count": 52
  },
  {
   "metadata": {
    "ExecuteTime": {
     "end_time": "2024-09-28T17:50:11.270305Z",
     "start_time": "2024-09-28T17:50:11.265900Z"
    }
   },
   "cell_type": "code",
   "source": [
    "def multiply(x, y):\n",
    "    return x * y\n",
    "# Tuple with three values\n",
    "values = (10, 20, 30, 50)\n",
    "# Unpacking the first two values into function arguments\n",
    "result = values[1]\n",
    "print(result)\n",
    "result = values[:2]\n",
    "print(result)\n",
    "result = values[-2:]\n",
    "print(result)\n",
    "result = values[1:3]\n",
    "print(result)"
   ],
   "id": "8e046dcb78e55c07",
   "outputs": [
    {
     "name": "stdout",
     "output_type": "stream",
     "text": [
      "20\n",
      "(10, 20)\n",
      "(30, 50)\n",
      "(20, 30)\n"
     ]
    }
   ],
   "execution_count": 71
  },
  {
   "metadata": {
    "ExecuteTime": {
     "end_time": "2024-09-28T17:50:59.799644Z",
     "start_time": "2024-09-28T17:50:59.796351Z"
    }
   },
   "cell_type": "code",
   "source": [
    "my_list = [1, 2, 3, 4, 5]\n",
    "print(my_list[2])\n",
    "print(my_list[:2])  # Output: [1, 2]\n",
    "print(my_list[-2:])\n",
    "print(my_list[1:3])\n"
   ],
   "id": "50900e595de0b0e3",
   "outputs": [
    {
     "name": "stdout",
     "output_type": "stream",
     "text": [
      "3\n",
      "[1, 2]\n",
      "[4, 5]\n",
      "[2, 3]\n"
     ]
    }
   ],
   "execution_count": 74
  },
  {
   "metadata": {},
   "cell_type": "code",
   "outputs": [],
   "execution_count": null,
   "source": [
    "'''\n",
    "1. a,\n",
    "2. True*\n",
    "3. abd\n",
    "4. True*\n",
    "5. ac\n",
    "6. b\n",
    "7. a\n",
    "11. a\n",
    "12. a\n",
    "13. c\n",
    "14. a\n",
    "15. a\n",
    "16. b\n",
    "17. a\n",
    "'''"
   ],
   "id": "f6b85daada105686"
  },
  {
   "metadata": {
    "ExecuteTime": {
     "end_time": "2024-09-28T19:35:16.728507Z",
     "start_time": "2024-09-28T19:35:16.725311Z"
    }
   },
   "cell_type": "code",
   "source": [
    "def find_min_in_list(lst):\n",
    "    small_num = lst[0]\n",
    "    for n in lst:\n",
    "        if n < small_num:\n",
    "            small_num = n\n",
    "    return small_num\n",
    "\n",
    "my_list = [9, 1, 5, 7, 11]\n",
    "smallest = find_min_in_list(my_list)\n",
    "print(smallest)"
   ],
   "id": "54da6f4c3092b66d",
   "outputs": [
    {
     "name": "stdout",
     "output_type": "stream",
     "text": [
      "1\n"
     ]
    }
   ],
   "execution_count": 101
  },
  {
   "metadata": {
    "ExecuteTime": {
     "end_time": "2024-09-28T19:14:46.903909Z",
     "start_time": "2024-09-28T19:14:46.898368Z"
    }
   },
   "cell_type": "code",
   "source": [
    "def print_dict_items(my_dict):\n",
    "    for k, v in my_dict.items():\n",
    "        print (k,v)\n",
    "    return k,v\n",
    "        \n",
    "my_dic = {\n",
    "    \"1\": \"a\",\n",
    "    \"2\": \"z\",\n",
    "}\n",
    "result, result1 = print_dict_items(my_dic)\n"
   ],
   "id": "b72b4d19d8d17196",
   "outputs": [
    {
     "name": "stdout",
     "output_type": "stream",
     "text": [
      "1 a\n",
      "2 z\n"
     ]
    }
   ],
   "execution_count": 88
  },
  {
   "metadata": {
    "ExecuteTime": {
     "end_time": "2024-09-28T19:21:06.829121Z",
     "start_time": "2024-09-28T19:21:06.824413Z"
    }
   },
   "cell_type": "code",
   "source": [
    "def tuple_to_list(my_tuple):\n",
    "    i = list(my_tuple)\n",
    "    return i\n",
    "my_tup = (1,2,3,4)\n",
    "result = tuple_to_list(my_tup)\n",
    "print(result)"
   ],
   "id": "cc1d309fd8d5b2fc",
   "outputs": [
    {
     "name": "stdout",
     "output_type": "stream",
     "text": [
      "[1, 2, 3, 4]\n"
     ]
    }
   ],
   "execution_count": 97
  },
  {
   "metadata": {},
   "cell_type": "code",
   "outputs": [],
   "execution_count": null,
   "source": "",
   "id": "cdc2ab10f6af0112"
  },
  {
   "metadata": {},
   "cell_type": "markdown",
   "source": "",
   "id": "a43e24622a1d639b"
  }
 ],
 "metadata": {
  "kernelspec": {
   "display_name": "Python 3",
   "language": "python",
   "name": "python3"
  },
  "language_info": {
   "codemirror_mode": {
    "name": "ipython",
    "version": 2
   },
   "file_extension": ".py",
   "mimetype": "text/x-python",
   "name": "python",
   "nbconvert_exporter": "python",
   "pygments_lexer": "ipython2",
   "version": "2.7.6"
  }
 },
 "nbformat": 4,
 "nbformat_minor": 5
}
