{
 "cells": [
  {
   "cell_type": "code",
   "execution_count": null,
   "id": "initial_id",
   "metadata": {
    "collapsed": true
   },
   "outputs": [],
   "source": [
    "from pandas.core.computation.expr import intersection\n",
    "\n",
    "'''\n",
    "1.a\n",
    "2.b\n",
    "3.True\n",
    "4.False\n",
    "5.ab\n",
    "6.ab\n",
    "7.a\n",
    "8.a\n",
    "9.b\n",
    "10.a\n",
    "11.a\n",
    "12.a\n",
    "17.a\n",
    "18.a\n",
    "19.b\n",
    "23.a\n",
    "24.a\n",
    "'''"
   ]
  },
  {
   "metadata": {
    "ExecuteTime": {
     "end_time": "2024-09-29T06:40:38.276191Z",
     "start_time": "2024-09-29T06:40:38.269899Z"
    }
   },
   "cell_type": "code",
   "source": [
    "def sum_list(lst):\n",
    "    i = lst[0]\n",
    "    sum_n = 0\n",
    "    for i in lst:\n",
    "        sum_n += i\n",
    "    return sum_n\n",
    "my_list = [1,5,6,9,7,8]\n",
    "result = sum_list(my_list)\n",
    "print(result)"
   ],
   "id": "ebce48ac70a21f25",
   "outputs": [
    {
     "name": "stdout",
     "output_type": "stream",
     "text": [
      "36\n"
     ]
    }
   ],
   "execution_count": 1
  },
  {
   "metadata": {
    "ExecuteTime": {
     "end_time": "2024-09-30T04:36:58.822306Z",
     "start_time": "2024-09-30T04:36:58.818817Z"
    }
   },
   "cell_type": "code",
   "source": [
    "def square_dict(numbers):\n",
    "    #i = numbers[0]\n",
    "    dict_new = {}\n",
    "    for i in numbers:\n",
    "        dict_new.update({i:i**2})\n",
    "    return dict_new\n",
    "num_list = [1,2,3,4,5]\n",
    "dict = square_dict(num_list)\n",
    "print(dict)"
   ],
   "id": "f8569c66ee14d864",
   "outputs": [
    {
     "name": "stdout",
     "output_type": "stream",
     "text": [
      "{1: 1, 2: 4, 3: 9, 4: 16, 5: 25}\n",
      "[1, 2, 3, 4, 5]\n"
     ]
    }
   ],
   "execution_count": 5
  },
  {
   "metadata": {
    "ExecuteTime": {
     "end_time": "2024-09-29T06:49:44.393443Z",
     "start_time": "2024-09-29T06:49:44.390516Z"
    }
   },
   "cell_type": "code",
   "source": [
    "def tuple_to_list(tup):\n",
    "    i = list(tup)\n",
    "    return i\n",
    "my_tuple = (1,2,3,4,5)\n",
    "new_list = tuple_to_list(my_tuple)\n",
    "print(new_list)"
   ],
   "id": "6c85836be59c603a",
   "outputs": [
    {
     "name": "stdout",
     "output_type": "stream",
     "text": [
      "[1, 2, 3, 4, 5]\n"
     ]
    }
   ],
   "execution_count": 6
  },
  {
   "metadata": {
    "ExecuteTime": {
     "end_time": "2024-09-29T07:39:38.148315Z",
     "start_time": "2024-09-29T07:39:38.144587Z"
    }
   },
   "cell_type": "code",
   "source": [
    "def even_in_set(num_set):\n",
    "    even_list = []\n",
    "    for i in num_set:\n",
    "        if i % 2 ==0:\n",
    "            even_list.append(i)\n",
    "    return even_list\n",
    "num_set = {1,2,3,4,5,6,7,8,9,10}\n",
    "even_num = even_in_set(num_set)\n",
    "print(even_num)"
   ],
   "id": "23ac593889d54e5a",
   "outputs": [
    {
     "name": "stdout",
     "output_type": "stream",
     "text": [
      "[2, 4, 6, 8, 10]\n"
     ]
    }
   ],
   "execution_count": 49
  },
  {
   "metadata": {
    "ExecuteTime": {
     "end_time": "2024-09-29T07:39:06.161183Z",
     "start_time": "2024-09-29T07:39:06.156919Z"
    }
   },
   "cell_type": "code",
   "source": [
    "def set_intersection(set1, set2):\n",
    "    i = set1&set2\n",
    "    print(i)\n",
    "    \n",
    "set_1 = {1,2,3}\n",
    "set_2 = {2,3,4}\n",
    "\n",
    "set_intersection(set_1,set_2)"
   ],
   "id": "53c661d61dfefde4",
   "outputs": [
    {
     "name": "stdout",
     "output_type": "stream",
     "text": [
      "{2, 3}\n"
     ]
    }
   ],
   "execution_count": 47
  },
  {
   "metadata": {
    "ExecuteTime": {
     "end_time": "2024-09-29T17:20:56.587182Z",
     "start_time": "2024-09-29T17:20:56.583170Z"
    }
   },
   "cell_type": "code",
   "source": [
    "def reverse_list(lst):\n",
    "    print (f'max number is: {max(lst)}')\n",
    "    print (f'min number is: {min(lst)}')\n",
    "    print (f'average is:{sum(lst) / len(lst)}')\n",
    "\n",
    "num_list = [10,1,3,5,9,6,7,4,2,10]\n",
    "reverse_list(num_list)\n"
   ],
   "id": "2e80575c73bcfbf8",
   "outputs": [
    {
     "name": "stdout",
     "output_type": "stream",
     "text": [
      "max number is: 10\n",
      "min number is: 1\n",
      "average is:5.7\n"
     ]
    }
   ],
   "execution_count": 5
  },
  {
   "metadata": {
    "ExecuteTime": {
     "end_time": "2024-09-29T07:54:38.317460Z",
     "start_time": "2024-09-29T07:54:38.313849Z"
    }
   },
   "cell_type": "code",
   "source": [
    "\n",
    "def max_grade(grades):\n",
    "    g = 0\n",
    "    s = None\n",
    "    for k,v in grades.items():\n",
    "        if v > g:\n",
    "            g = v\n",
    "            s = k\n",
    "    return s,g\n",
    "grades_dic = {\n",
    "    \"a\": 2,\n",
    "    \"b\": 4,\n",
    "}\n",
    "name , high_grade = max_grade(grades_dic)\n",
    "print(name , high_grade)"
   ],
   "id": "efcdfe38a0f4d782",
   "outputs": [
    {
     "name": "stdout",
     "output_type": "stream",
     "text": [
      "b 4\n"
     ]
    }
   ],
   "execution_count": 68
  },
  {
   "metadata": {
    "ExecuteTime": {
     "end_time": "2024-09-29T17:40:21.587139Z",
     "start_time": "2024-09-29T17:40:21.583440Z"
    }
   },
   "cell_type": "code",
   "source": [
    "def odd_and_even_numbers(number):\n",
    "    odd_l = []\n",
    "    even_n = []\n",
    "    for i in number:\n",
    "        if i % 2 ==0:\n",
    "            even_n.append(i)\n",
    "        else:\n",
    "            odd_l.append(i)\n",
    "    return odd_l,even_n\n",
    "\n",
    "nums = [10, 15, 20, 25, 30, 35, 40, 45]\n",
    "odd_list, even_list = odd_and_even_numbers(nums)\n",
    "print(f\"Odd numbers: {odd_list}\")\n",
    "print(f\"Even numbers: {even_list}\")"
   ],
   "id": "daede5e43c61bec9",
   "outputs": [
    {
     "name": "stdout",
     "output_type": "stream",
     "text": [
      "Odd numbers: [15, 25, 35, 45]\n",
      "Even numbers: [10, 20, 30, 40]\n"
     ]
    }
   ],
   "execution_count": 8
  },
  {
   "metadata": {
    "ExecuteTime": {
     "end_time": "2024-09-29T17:50:02.080419Z",
     "start_time": "2024-09-29T17:50:02.076073Z"
    }
   },
   "cell_type": "code",
   "source": [
    "def sum_even_and_odd(lst):\n",
    "    my_dic = {}\n",
    "    odd_num = []\n",
    "    even_num = []\n",
    "    for i in lst:\n",
    "        if i % 2 ==0:\n",
    "            even_num.append(i)\n",
    "        else:\n",
    "            odd_num.append(i)\n",
    "    sum_o = sum(odd_num)\n",
    "    sum_e = sum(even_num)\n",
    "    #my_dic[\"sum_even\"] = sum_e\n",
    "    #my_dic[\"sum_odd\"] = sum_o\n",
    "    my_dic.update({\"sum_even\": sum_e, \"sum_odd\": sum_o})\n",
    "    return my_dic\n",
    "    \n",
    "nums = [1, 2, 3, 4, 5, 6, 7, 8, 9, 10]\n",
    "result = sum_even_and_odd(nums)\n",
    "print(result)  # Expected output: {'sum_even': 30, 'sum_odd': 25}"
   ],
   "id": "be8b341ce3a7ee93",
   "outputs": [
    {
     "name": "stdout",
     "output_type": "stream",
     "text": [
      "{'sum_even': 30, 'sum_odd': 25}\n"
     ]
    }
   ],
   "execution_count": 11
  },
  {
   "metadata": {
    "ExecuteTime": {
     "end_time": "2024-09-29T17:59:46.723058Z",
     "start_time": "2024-09-29T17:59:46.719883Z"
    }
   },
   "cell_type": "code",
   "source": [
    "def first_n_odd_and_even(n):\n",
    "    nums = [1, 2, 3, 4, 5, 6, 7, 8, 9, 10, 11, 12]\n",
    "    even_list=[]\n",
    "    odd_list=[]\n",
    "    for i in nums:\n",
    "        if i % 2 ==0:\n",
    "            even_list.append(i)\n",
    "        else:\n",
    "            odd_list.append(i)\n",
    "    new_even_list = even_list[0:n]\n",
    "    new_odd_list = odd_list[0:n]\n",
    "    dic_my = {}\n",
    "    dic_my.update({\"firs_n_odd\": new_odd_list, \"first_n_even\": new_even_list})\n",
    "    return dic_my\n",
    "result = first_n_odd_and_even(5)\n",
    "print(result)  \n",
    "# Expected output:\n",
    "# {'first_n_odd': [1, 3, 5, 7, 9], 'first_n_even': [2, 4, 6, 8, 10]}\n"
   ],
   "id": "1005861cedd00366",
   "outputs": [
    {
     "name": "stdout",
     "output_type": "stream",
     "text": [
      "{'firs_n_odd': [1, 3, 5, 7, 9], 'first_n_even': [2, 4, 6, 8, 10]}\n"
     ]
    }
   ],
   "execution_count": 14
  },
  {
   "metadata": {
    "ExecuteTime": {
     "end_time": "2024-09-29T18:39:02.159938Z",
     "start_time": "2024-09-29T18:39:02.153274Z"
    }
   },
   "cell_type": "code",
   "source": [
    "def prime(lst):\n",
    "    prime_list = []\n",
    "    for i in lst:\n",
    "        if i < 2:\n",
    "            break\n",
    "        for n in range(2,int(max(lst)**0.5)+1):\n",
    "            if i % n == 0:\n",
    "                break\n",
    "            else:\n",
    "                return i\n",
    "    prime_list.append(i)\n",
    "    return prime_list\n",
    "\n",
    "nums = [6, 11, 15, 17, 23, 28]\n",
    "result = prime(nums)\n",
    "print(result)  \n"
   ],
   "id": "21d88efe5ddddcb",
   "outputs": [
    {
     "name": "stdout",
     "output_type": "stream",
     "text": [
      "11\n"
     ]
    }
   ],
   "execution_count": 31
  },
  {
   "metadata": {
    "ExecuteTime": {
     "end_time": "2024-09-29T18:18:17.568716Z",
     "start_time": "2024-09-29T18:18:17.563378Z"
    }
   },
   "cell_type": "code",
   "source": [
    "def first_n_odd_and_even(n):\n",
    "    even_list = []\n",
    "    odd_list = []\n",
    "    \n",
    "    # Generate the first n odd and even numbers dynamically\n",
    "    i = 1\n",
    "    while len(even_list) < n or len(odd_list) < n:\n",
    "        if i % 2 == 0:\n",
    "            if len(even_list) < n:\n",
    "                even_list.append(i)\n",
    "        else:\n",
    "            if len(odd_list) < n:\n",
    "                odd_list.append(i)\n",
    "        i += 1\n",
    "    \n",
    "    # Create and return the dictionary with the first n odd and even numbers\n",
    "    dic_my = {\"first_n_odd\": odd_list, \"first_n_even\": even_list}\n",
    "    return dic_my\n",
    "\n",
    "# Test the function\n",
    "result = first_n_odd_and_even(5)\n",
    "print(result)\n"
   ],
   "id": "e73d6f1c6147bcbe",
   "outputs": [
    {
     "name": "stdout",
     "output_type": "stream",
     "text": [
      "{'first_n_odd': [1, 3, 5, 7, 9], 'first_n_even': [2, 4, 6, 8, 10]}\n"
     ]
    }
   ],
   "execution_count": 19
  },
  {
   "metadata": {
    "ExecuteTime": {
     "end_time": "2024-09-29T18:27:24.522124Z",
     "start_time": "2024-09-29T18:27:24.514941Z"
    }
   },
   "cell_type": "code",
   "source": [
    "def prime_and_divisors(lst):\n",
    "    prime_list = []\n",
    "    divisors_dict = {}\n",
    "\n",
    "    # Helper function to find divisors\n",
    "    def find_divisors(num):\n",
    "        divisors = [i for i in range(1, num + 1) if num % i == 0]\n",
    "        return divisors\n",
    "\n",
    "    # Function to check if a number is prime\n",
    "    def is_prime(num):\n",
    "        if num < 2:\n",
    "            return False\n",
    "        for i in range(2, int(num ** 0.5) + 1):  # Only check up to sqrt(num)\n",
    "            if num % i == 0:\n",
    "                return False\n",
    "        return True\n",
    "\n",
    "    # Iterate over the list of numbers\n",
    "    for i in lst:\n",
    "        if is_prime(i):\n",
    "            prime_list.append(i)  # Add to prime list if prime\n",
    "        divisors_dict[i] = find_divisors(i)  # Add divisors for each number\n",
    "\n",
    "    return {'prime_numbers': prime_list, 'divisors': divisors_dict}\n",
    "\n",
    "# Test the function\n",
    "nums = [6, 11, 15, 17, 23, 28]\n",
    "result = prime_and_divisors(nums)\n",
    "print(result)\n"
   ],
   "id": "1749cd8b33b327e0",
   "outputs": [
    {
     "name": "stdout",
     "output_type": "stream",
     "text": [
      "{'prime_numbers': [11, 17, 23], 'divisors': {6: [1, 2, 3, 6], 11: [1, 11], 15: [1, 3, 5, 15], 17: [1, 17], 23: [1, 23], 28: [1, 2, 4, 7, 14, 28]}}\n"
     ]
    }
   ],
   "execution_count": 20
  },
  {
   "metadata": {
    "ExecuteTime": {
     "end_time": "2024-09-29T18:36:07.775522Z",
     "start_time": "2024-09-29T18:36:07.771551Z"
    }
   },
   "cell_type": "code",
   "source": [
    "def prime(lst):\n",
    "    prime_list = []\n",
    "\n",
    "    # Function to check if a number is prime\n",
    "    def is_prime(num):\n",
    "        print(num)\n",
    " \n",
    "\n",
    "    # Iterate over the numbers in the input list\n",
    "    for i in lst:\n",
    "        if is_prime(i):\n",
    "            prime_list.append(i)\n",
    "\n",
    "    return prime_list\n",
    "\n",
    "# Test the function\n",
    "nums = [6, 11, 15, 17, 23, 28]\n",
    "result = prime(nums)\n",
    "print(result)\n"
   ],
   "id": "c14fd14fa6d8122d",
   "outputs": [
    {
     "name": "stdout",
     "output_type": "stream",
     "text": [
      "6\n",
      "11\n",
      "15\n",
      "17\n",
      "23\n",
      "28\n",
      "[]\n"
     ]
    }
   ],
   "execution_count": 25
  },
  {
   "metadata": {
    "ExecuteTime": {
     "end_time": "2024-09-30T08:25:08.177478Z",
     "start_time": "2024-09-30T08:25:08.170096Z"
    }
   },
   "cell_type": "code",
   "source": [
    "n = 0\n",
    "def numbers():\n",
    "    global n\n",
    "    num = [2, 0, 2, 3]\n",
    "    for i in range(3, 0, -1):\n",
    "        print(i)\n",
    "        for n in num:\n",
    "            #print(n)\n",
    "            if i == n:\n",
    "                n += 1\n",
    "        i += 1\n",
    "    print('n is ' + str(n))\n",
    "    print('i is ' + str(i))\n",
    "\n",
    "numbers()\n"
   ],
   "id": "addf9896eaf12f0f",
   "outputs": [
    {
     "name": "stdout",
     "output_type": "stream",
     "text": [
      "3\n",
      "2\n",
      "1\n",
      "n is 3\n",
      "i is 2\n"
     ]
    }
   ],
   "execution_count": 13
  },
  {
   "metadata": {
    "ExecuteTime": {
     "end_time": "2024-09-30T08:34:44.883428Z",
     "start_time": "2024-09-30T08:34:44.878492Z"
    }
   },
   "cell_type": "code",
   "source": [
    "for i in range(3,0,1):\n",
    "    print(i)"
   ],
   "id": "c015a70551b3e2cb",
   "outputs": [],
   "execution_count": 25
  },
  {
   "metadata": {},
   "cell_type": "code",
   "outputs": [],
   "execution_count": null,
   "source": "",
   "id": "14299171130aa069"
  }
 ],
 "metadata": {
  "kernelspec": {
   "display_name": "Python 3",
   "language": "python",
   "name": "python3"
  },
  "language_info": {
   "codemirror_mode": {
    "name": "ipython",
    "version": 2
   },
   "file_extension": ".py",
   "mimetype": "text/x-python",
   "name": "python",
   "nbconvert_exporter": "python",
   "pygments_lexer": "ipython2",
   "version": "2.7.6"
  }
 },
 "nbformat": 4,
 "nbformat_minor": 5
}
